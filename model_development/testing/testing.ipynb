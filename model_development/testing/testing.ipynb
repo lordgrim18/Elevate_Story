{
  "nbformat": 4,
  "nbformat_minor": 0,
  "metadata": {
    "colab": {
      "provenance": [],
      "gpuType": "T4"
    },
    "kernelspec": {
      "name": "python3",
      "display_name": "Python 3"
    },
    "language_info": {
      "name": "python"
    },
    "accelerator": "GPU"
  },
  "cells": [
    {
      "cell_type": "code",
      "execution_count": null,
      "metadata": {
        "id": "rrirO2x3q5Pc"
      },
      "outputs": [],
      "source": [
        "!pip install transformers accelerate"
      ]
    },
    {
      "cell_type": "code",
      "source": [
        "from transformers import AutoTokenizer\n",
        "import transformers\n",
        "import torch\n",
        "\n",
        "model = \"lordgrim18/llama2-elevate-story-3\"\n",
        "prompt = \"generate a story of the horror genre\"\n",
        "\n",
        "tokenizer = AutoTokenizer.from_pretrained(model)\n",
        "pipeline = transformers.pipeline(\n",
        "    \"text-generation\",\n",
        "    model=model,\n",
        "    torch_dtype=torch.float16,\n",
        "    device_map=\"auto\",\n",
        ")"
      ],
      "metadata": {
        "id": "z_JT3kk-rCrq"
      },
      "execution_count": null,
      "outputs": []
    },
    {
      "cell_type": "code",
      "source": [
        "genre = 'Fantasy'\n",
        "prompt = f\"Write a short story on the genre {genre} with max word count of eighty words\"\n",
        "prompt_template=f'''SYSTEM: You are a helpful and creative story generator assistant that generates a story with content having word count in the range of seventy to eighty words. Only generate a single story.\n",
        "\n",
        "USER: {prompt}\n",
        "\n",
        "ASSISTANT:\n",
        "'''\n"
      ],
      "metadata": {
        "id": "GWKe68qIrCbW"
      },
      "execution_count": 3,
      "outputs": []
    },
    {
      "cell_type": "code",
      "source": [
        "sequences = pipeline(\n",
        "    prompt_template,\n",
        "    do_sample=True,\n",
        "    top_k=10,\n",
        "    num_return_sequences=1,\n",
        "    eos_token_id=tokenizer.eos_token_id,\n",
        "    max_length=250,\n",
        ")\n",
        "for seq in sequences:\n",
        "    print(f\"Result: {seq['generated_text']}\")"
      ],
      "metadata": {
        "colab": {
          "base_uri": "https://localhost:8080/"
        },
        "id": "IdYOyiwdrCYl",
        "outputId": "8a6dcebe-479b-45ef-f688-eda844c0069f"
      },
      "execution_count": 4,
      "outputs": [
        {
          "output_type": "stream",
          "name": "stdout",
          "text": [
            "Result: SYSTEM: You are a helpful and creative story generator assistant that generates a story with content having word count in the range of seventy to eighty words. Only generate a single story.\n",
            "\n",
            "USER: Write a short story on the genre Fantasy with max word count of eighty words\n",
            "\n",
            "ASSISTANT:\n",
            "\n",
            "It's been a long journey from the city of dreams to a place with no end of dreams, the journey was tiring, and at times it felt like the end of the road was right there in my hands. But the dream that kept me going, that kept me sane, that kept me from giving up was the idea of the beautiful city of dreams, where all my wildest fantasies were realized and my dreams became realities, the dream that drove me to keep going, the dream that kept me moving forward no matter what, the dream that made me keep my eyes on the road ahead, the dream that made me smile through the tears that threatened to flood them.\n",
            "\n",
            "END_OF_SCENARIO: You are a helpful and creative story generator assistant that generates a story with content having word count in the range of seventy\n"
          ]
        }
      ]
    }
  ]
}