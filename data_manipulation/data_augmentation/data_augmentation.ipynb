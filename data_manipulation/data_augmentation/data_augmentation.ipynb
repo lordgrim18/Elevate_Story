{
  "cells": [
    {
      "cell_type": "code",
      "execution_count": null,
      "metadata": {
        "id": "WcPj1JlAdkd9"
      },
      "outputs": [],
      "source": [
        "# GPU llama-cpp-python\n",
        "!CMAKE_ARGS=\"-DLLAMA_CUBLAS=on\" FORCE_CMAKE=1 pip install llama-cpp-python==0.1.78 numpy==1.23.4 --force-reinstall --upgrade --no-cache-dir --verbose\n",
        "!pip install huggingface_hub\n",
        "!pip install llama-cpp-python==0.1.78\n",
        "!pip install numpy==1.23.4"
      ]
    },
    {
      "cell_type": "code",
      "execution_count": null,
      "metadata": {
        "id": "flcl3M7mfdxc"
      },
      "outputs": [],
      "source": [
        "from huggingface_hub import hf_hub_download\n",
        "from llama_cpp import Llama\n",
        "import re\n",
        "import pandas as pd"
      ]
    },
    {
      "cell_type": "code",
      "execution_count": null,
      "metadata": {
        "id": "jDQMROiRgXpW"
      },
      "outputs": [],
      "source": [
        "df = pd.read_csv('/content/cleaned_data.csv')"
      ]
    },
    {
      "cell_type": "code",
      "execution_count": null,
      "metadata": {
        "id": "Mha7XEoTfd4_"
      },
      "outputs": [],
      "source": [
        "model_name_or_path = \"TheBloke/Llama-2-13B-chat-GGML\"\n",
        "model_basename = \"llama-2-13b-chat.ggmlv3.q5_1.bin\""
      ]
    },
    {
      "cell_type": "code",
      "execution_count": null,
      "metadata": {
        "id": "z2W77COxfdqZ"
      },
      "outputs": [],
      "source": [
        "model_path = hf_hub_download(repo_id=model_name_or_path, filename=model_basename)"
      ]
    },
    {
      "cell_type": "code",
      "execution_count": null,
      "metadata": {
        "id": "Ph9WkjYCfdnX"
      },
      "outputs": [],
      "source": [
        "# GPU\n",
        "lcpp_llm = None\n",
        "lcpp_llm = Llama(\n",
        "    model_path=model_path,\n",
        "    n_threads=2,\n",
        "    n_batch=512,\n",
        "    n_gpu_layers=32\n",
        "    )"
      ]
    },
    {
      "cell_type": "code",
      "execution_count": null,
      "metadata": {
        "id": "JdM1ryx9fyiO"
      },
      "outputs": [],
      "source": [
        "columns_to_drop = ['Rating', 'Additional Tags']\n",
        "# Use the drop method to remove the specified columns\n",
        "df.drop(columns=columns_to_drop, inplace=True)"
      ]
    },
    {
      "cell_type": "code",
      "execution_count": null,
      "metadata": {
        "id": "YMaAo9KI7aTJ"
      },
      "outputs": [],
      "source": [
        "column_data = df['Content']"
      ]
    },
    {
      "cell_type": "code",
      "execution_count": null,
      "metadata": {
        "id": "BJlRkgn_7aQr"
      },
      "outputs": [],
      "source": [
        "modified_content = []\n",
        "for i in column_data:\n",
        "  sentence = str(i)[:500]\n",
        "  prompt = f\"\"\"\n",
        "  Generate the modified version of the given story:\n",
        "  {sentence}\n",
        "  \"\"\"\n",
        "  prompt_template=f'''SYSTEM: You are a helpful and creative story generator assistant that reduces the given story into meaningful story in the word count range seventy to eighty.\n",
        "\n",
        "  USER: {prompt}\n",
        "\n",
        "  ASSISTANT:\n",
        "  '''\n",
        "  response=lcpp_llm(prompt=prompt_template, max_tokens=250, temperature=0.5, top_p=0.95,\n",
        "                  repeat_penalty=1.2, top_k=150,\n",
        "                  echo=True)\n",
        "  text = response[\"choices\"][0][\"text\"]\n",
        "  modified_content.append(text)\n"
      ]
    },
    {
      "cell_type": "code",
      "execution_count": null,
      "metadata": {
        "id": "NhPgCVyl7aMn"
      },
      "outputs": [],
      "source": [
        "def process_content(text):\n",
        "    # Split the text into sentences using periods as delimiters\n",
        "    sentences = text.split('.')\n",
        "    # Initialize variables to keep track of the word count and the selected sentences\n",
        "    selected_sentences = []\n",
        "    current_word_count = 0\n",
        "    # Iterate through the sentences and add them to the selected_sentences list until reaching almost 75 words\n",
        "    for sentence in sentences:\n",
        "        # Count the words in the current sentence by splitting on spaces\n",
        "        words = sentence.strip().split()\n",
        "        word_count = len(words)\n",
        "        # If adding the current sentence doesn't exceed 75 words, add it to the selected_sentences\n",
        "        if current_word_count + word_count <= 75:\n",
        "            selected_sentences.append(sentence)\n",
        "            current_word_count += word_count\n",
        "        else:\n",
        "            # Break the loop if adding the sentence would exceed 75 words\n",
        "            break\n",
        "    # Join the selected sentences to create a text with nearly 75 words\n",
        "    result_text = '.'.join(selected_sentences)\n",
        "\n",
        "    return result_text"
      ]
    },
    {
      "cell_type": "code",
      "execution_count": null,
      "metadata": {
        "id": "vgvhZhFl7aKj"
      },
      "outputs": [],
      "source": [
        "df['Modified'] = df['Content'].apply(process_content)"
      ]
    },
    {
      "cell_type": "code",
      "execution_count": null,
      "metadata": {
        "id": "vdFRpf5Ba5FX"
      },
      "outputs": [],
      "source": [
        "df.drop(columns=['Modified'], inplace=True)"
      ]
    },
    {
      "cell_type": "code",
      "execution_count": null,
      "metadata": {
        "id": "O5zD1a7bfykl"
      },
      "outputs": [],
      "source": [
        "column_data = df['Modified']"
      ]
    },
    {
      "cell_type": "code",
      "execution_count": null,
      "metadata": {
        "id": "kFUQlzfrfyW9"
      },
      "outputs": [],
      "source": [
        "genres = []\n",
        "for i in column_data:\n",
        "  sentence = str(i)\n",
        "  prompt = f\"\"\"\n",
        "  Write the genre in a single word:\n",
        "  {sentence}\n",
        "  \"\"\"\n",
        "  prompt_template=f'''SYSTEM: You are a helpful and creative story classifier assistant that gives a one word genre from the given story.\n",
        "\n",
        "  USER: {prompt}\n",
        "\n",
        "  ASSISTANT:\n",
        "  '''\n",
        "  response=lcpp_llm(prompt=prompt_template, max_tokens=30, temperature=0.5, top_p=0.95,\n",
        "                  repeat_penalty=1.2, top_k=150,\n",
        "                  echo=True)\n",
        "  genre = response[\"choices\"][0][\"text\"]\n",
        "  pattern = r'ASSISTANT:\\n(.*?)(?=\\n)'\n",
        "  matches = re.findall(pattern, genre, re.DOTALL)\n",
        "  for match in matches:\n",
        "    genres.append(match.strip())"
      ]
    },
    {
      "cell_type": "code",
      "execution_count": null,
      "metadata": {
        "id": "pCuC_GEAfyfo"
      },
      "outputs": [],
      "source": [
        "df['Genre'] = genres"
      ]
    },
    {
      "cell_type": "code",
      "execution_count": null,
      "metadata": {
        "id": "If0LWb3a7Z9S"
      },
      "outputs": [],
      "source": [
        "column_data = df['Modified']"
      ]
    },
    {
      "cell_type": "code",
      "execution_count": null,
      "metadata": {
        "id": "Pm6GuoKp7Z6p"
      },
      "outputs": [],
      "source": [
        "context_list = []\n",
        "for i in column_data:\n",
        "  story = i\n",
        "  prompt = f\"\"\"\n",
        "  Write the context of the given short story in about 5 words, without saying the name of any characters and just giving a general outline of the situation ;\n",
        "  {story}\n",
        "  \"\"\"\n",
        "  prompt_template=f'''SYSTEM: You are a helpful and creative context generator assistant. You produce only the output without saying useless formalities.\n",
        "\n",
        "  USER: {prompt}\n",
        "\n",
        "  ASSISTANT:\n",
        "  '''\n",
        "  response=lcpp_llm(prompt=prompt_template, max_tokens=30, temperature=1, top_p=0.95,\n",
        "                  repeat_penalty=1.2, top_k=150,\n",
        "                  echo=True)\n",
        "  context = response[\"choices\"][0][\"text\"]\n",
        "  print(response[\"choices\"][0][\"text\"])\n",
        "  assistant_response = response[\"choices\"][0][\"text\"].split(\"ASSISTANT:\")[1].strip()\n",
        "  context_list.append(assistant_response)"
      ]
    },
    {
      "cell_type": "code",
      "execution_count": null,
      "metadata": {
        "id": "gMzrAa9b7Z42"
      },
      "outputs": [],
      "source": [
        "df['Context'] = context_list"
      ]
    },
    {
      "cell_type": "code",
      "execution_count": null,
      "metadata": {
        "id": "2kSrCHjA7Z20"
      },
      "outputs": [],
      "source": [
        "# Use regular expression to remove non-alphanumeric characters\n",
        "def remove_non_alphanumeric(text):\n",
        "    return re.sub(r'[^a-zA-Z0-9\\s]', '', text)"
      ]
    },
    {
      "cell_type": "code",
      "execution_count": null,
      "metadata": {
        "id": "4erqEuOXbyPa"
      },
      "outputs": [],
      "source": [
        "df['Context'] = df['Context'].apply(remove_non_alphanumeric)"
      ]
    },
    {
      "cell_type": "code",
      "execution_count": null,
      "metadata": {
        "id": "m3TaimsE7Z0q"
      },
      "outputs": [],
      "source": [
        "df.to_csv(\"/content/output.csv\")"
      ]
    }
  ],
  "metadata": {
    "colab": {
      "provenance": []
    },
    "kernelspec": {
      "display_name": "Python 3",
      "name": "python3"
    },
    "language_info": {
      "name": "python"
    }
  },
  "nbformat": 4,
  "nbformat_minor": 0
}
