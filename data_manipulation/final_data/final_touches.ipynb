{
  "nbformat": 4,
  "nbformat_minor": 0,
  "metadata": {
    "colab": {
      "provenance": []
    },
    "kernelspec": {
      "name": "python3",
      "display_name": "Python 3"
    },
    "language_info": {
      "name": "python"
    }
  },
  "cells": [
    {
      "cell_type": "code",
      "execution_count": null,
      "metadata": {
        "id": "IxUnNBM5dis3"
      },
      "outputs": [],
      "source": [
        "import pandas as pd"
      ]
    },
    {
      "cell_type": "code",
      "source": [
        "df = pd.read_csv('/content/output.csv')"
      ],
      "metadata": {
        "id": "VwTE8gHPdkOE"
      },
      "execution_count": null,
      "outputs": []
    },
    {
      "cell_type": "code",
      "source": [
        "# Initialize an empty list to store the formatted rows\n",
        "formatted_rows = []\n",
        "\n",
        "# Iterate through the rows of the DataFrame\n",
        "for index, row in df.iterrows():\n",
        "    # Extract the \"genre\" and \"content\" values\n",
        "    genre = row['Genre']\n",
        "    content = row['Modified']\n",
        "    context = row['Context']\n",
        "\n",
        "    # Create the formatted text\n",
        "    formatted_text = f\"### Human: Create a short story of about seventy-five words on the genre: {genre} and context: {context} . ### Assistant: {content}\"\n",
        "\n",
        "    # Append the formatted text to the list\n",
        "    formatted_rows.append(formatted_text)"
      ],
      "metadata": {
        "id": "nfce64LldkLm"
      },
      "execution_count": null,
      "outputs": []
    },
    {
      "cell_type": "code",
      "source": [
        "df['Text'] = formatted_rows\n",
        "df = df.drop(columns=['URL', 'Genre', 'Modified', 'Context'])\n",
        "df.to_csv('/content/train.csv', index=False)"
      ],
      "metadata": {
        "id": "vF6flE1VdkJH"
      },
      "execution_count": null,
      "outputs": []
    },
    {
      "cell_type": "code",
      "source": [],
      "metadata": {
        "id": "OWdvVtBLdkGr"
      },
      "execution_count": null,
      "outputs": []
    }
  ]
}