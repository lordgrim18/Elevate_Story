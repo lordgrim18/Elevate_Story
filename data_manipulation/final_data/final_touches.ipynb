{
  "cells": [
    {
      "cell_type": "code",
      "execution_count": null,
      "metadata": {
        "id": "IxUnNBM5dis3"
      },
      "outputs": [],
      "source": [
        "import pandas as pd"
      ]
    },
    {
      "cell_type": "code",
      "execution_count": null,
      "metadata": {
        "id": "VwTE8gHPdkOE"
      },
      "outputs": [],
      "source": [
        "df = pd.read_csv('/content/output.csv')"
      ]
    },
    {
      "cell_type": "code",
      "execution_count": null,
      "metadata": {
        "id": "nfce64LldkLm"
      },
      "outputs": [],
      "source": [
        "# Initialize an empty list to store the formatted rows\n",
        "formatted_rows = []\n",
        "# Iterate through the rows of the DataFrame\n",
        "for index, row in df.iterrows():\n",
        "    # Extract the \"genre\" and \"content\" values\n",
        "    genre = row['Genre']\n",
        "    content = row['Modified']\n",
        "    context = row['Context']\n",
        "    formatted_text = f\"### Human: Create a short story of about seventy-five words on the genre: {genre} and context: {context} . ### Assistant: {content}\"\n",
        "    formatted_rows.append(formatted_text)"
      ]
    },
    {
      "cell_type": "code",
      "execution_count": null,
      "metadata": {
        "id": "vF6flE1VdkJH"
      },
      "outputs": [],
      "source": [
        "df['Text'] = formatted_rows\n",
        "df = df.drop(columns=['URL', 'Genre', 'Modified', 'Context'])\n",
        "df.to_csv('/content/train.csv', index=False)"
      ]
    }
  ],
  "metadata": {
    "colab": {
      "provenance": []
    },
    "kernelspec": {
      "display_name": "Python 3",
      "name": "python3"
    },
    "language_info": {
      "name": "python"
    }
  },
  "nbformat": 4,
  "nbformat_minor": 0
}
