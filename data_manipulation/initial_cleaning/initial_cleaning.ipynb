{
 "cells": [
  {
   "cell_type": "code",
   "execution_count": 1,
   "metadata": {},
   "outputs": [],
   "source": [
    "import re\n",
    "import pandas as pd"
   ]
  },
  {
   "cell_type": "code",
   "execution_count": 8,
   "metadata": {},
   "outputs": [],
   "source": [
    "df = pd.read_csv('data.csv')\n",
    "\n",
    "# Remove rows where a specific column contains \"Not found\"\n",
    "column_name_to_check = \"Content\"\n",
    "df = df[df[column_name_to_check] != \"Not Found\"]"
   ]
  },
  {
   "cell_type": "code",
   "execution_count": 17,
   "metadata": {},
   "outputs": [],
   "source": [
    "def clean_text(text):\n",
    "    # Remove \"Chapter Text\"\n",
    "    text = re.sub(r'^Chapter Text', '', text, flags=re.MULTILINE)\n",
    "\n",
    "    # Remove line breaks and extra spaces\n",
    "    text = ' '.join(text.split())\n",
    "\n",
    "    # Remove non-alphanumeric characters (excluding spaces)\n",
    "    text = re.sub(r'[^\\w\\s.]', '', text)\n",
    "    return text"
   ]
  },
  {
   "cell_type": "code",
   "execution_count": 20,
   "metadata": {},
   "outputs": [
    {
     "name": "stdout",
     "output_type": "stream",
     "text": [
      "                                            URL  \\\n",
      "2    https://archiveofourown.org/works/46990717   \n",
      "5    https://archiveofourown.org/works/27849038   \n",
      "10     https://archiveofourown.org/works/518190   \n",
      "11   https://archiveofourown.org/works/27848862   \n",
      "12   https://archiveofourown.org/works/27843667   \n",
      "..                                          ...   \n",
      "434  https://archiveofourown.org/works/31102808   \n",
      "436  https://archiveofourown.org/works/41532681   \n",
      "445  https://archiveofourown.org/works/33562756   \n",
      "446  https://archiveofourown.org/works/33562213   \n",
      "447  https://archiveofourown.org/works/33562567   \n",
      "\n",
      "                                                 Title  \\\n",
      "2                                                 Bait   \n",
      "5                     Missing You, Are You Missing Me?   \n",
      "10                                   all that's gilded   \n",
      "11                     The Girl I Like Is My Sanctuary   \n",
      "12             The Girl I Like Was Struck By Lightning   \n",
      "..                                                 ...   \n",
      "434                                      Drown With Me   \n",
      "436  Age of Fire oneshot book (og name: Words to Re...   \n",
      "445                              Open World: Happiness   \n",
      "446                                 Open World: Heroes   \n",
      "447                               Open World: Level Up   \n",
      "\n",
      "                                               Content                 Rating  \\\n",
      "2    Hey Mastriani.Jess grinned leaning back agains...  Teen And Up Audiences   \n",
      "5    Hi. Hows it going Long time no see. Hey I need...  Teen And Up Audiences   \n",
      "10   Jess had fallen in love with the antique ring ...  Teen And Up Audiences   \n",
      "11   My mom was laughing at me.Oh she might think s...  Teen And Up Audiences   \n",
      "12   Mastriani Well duh you havent seen her in clas...  Teen And Up Audiences   \n",
      "..                                                 ...                    ...   \n",
      "434  Chapter 1 I have to do this. Hes back.His lung...  Teen And Up Audiences   \n",
      "436  Do you love me Halaflora asked a kind shimmer ...      General Audiences   \n",
      "445  We exited the portal like we had many planets ...  Teen And Up Audiences   \n",
      "446  Can a person without a quirk become a hero Bef...  Teen And Up Audiences   \n",
      "447  I couldnt take it anymore. The insults the rej...                 Mature   \n",
      "\n",
      "                                       Additional Tags  \n",
      "2                  KidnappingRescueBreak UpMotorcycles  \n",
      "5    RetellingPOV Rob WilkinsImplied/Referenced Und...  \n",
      "10                                           Not Found  \n",
      "11                      RetellingPOV Rob WilkinsRacism  \n",
      "12                            RetellingPOV Rob Wilkins  \n",
      "..                                                 ...  \n",
      "434  Alternate CanonAngstDramaProtectivenessattempt...  \n",
      "436  FluffWorried HalafloraCalm CopperI love these ...  \n",
      "445  CrossoverCrossovers & Fandom FusionsSlice of L...  \n",
      "446                                          Not Found  \n",
      "447  Crossovers & Fandom FusionsMultiple Crossovers...  \n",
      "\n",
      "[155 rows x 5 columns]\n"
     ]
    }
   ],
   "source": [
    "df[column_name_to_check] = df[column_name_to_check].apply(clean_text)\n",
    "\n",
    "print(df)"
   ]
  },
  {
   "cell_type": "code",
   "execution_count": 12,
   "metadata": {},
   "outputs": [],
   "source": [
    "df.to_csv('cleaned_data.csv', index=False)"
   ]
  }
 ],
 "metadata": {
  "kernelspec": {
   "display_name": "env",
   "language": "python",
   "name": "python3"
  },
  "language_info": {
   "codemirror_mode": {
    "name": "ipython",
    "version": 3
   },
   "file_extension": ".py",
   "mimetype": "text/x-python",
   "name": "python",
   "nbconvert_exporter": "python",
   "pygments_lexer": "ipython3",
   "version": "3.11.4"
  },
  "orig_nbformat": 4
 },
 "nbformat": 4,
 "nbformat_minor": 2
}
